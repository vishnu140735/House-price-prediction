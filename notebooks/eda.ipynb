{
 "cells": [
  {
   "cell_type": "code",
   "execution_count": null,
   "id": "a73325fb",
   "metadata": {},
   "outputs": [
    {
     "ename": "",
     "evalue": "",
     "output_type": "error",
     "traceback": [
      "\u001b[1;31mRunning cells with '.venv (Python 3.10.2)' requires the ipykernel package.\n",
      "\u001b[1;31mInstall 'ipykernel' into the Python environment. \n",
      "\u001b[1;31mCommand: 'c:/Users/suman/house-value-prediciton/.venv/Scripts/python.exe -m pip install ipykernel -U --force-reinstall'"
     ]
    }
   ],
   "source": [
    "import pandas as pd\n",
    "import matplotlib.pyplot as plt\n",
    "import seaborn as sns\n",
    "from sklearn.datasets import fetch_california_housing\n",
    "\n",
    "\n",
    "california = fetch_california_housing(as_frame=True)\n",
    "df = california.frame\n",
    "\n",
    "print(\"✅ Dataset loaded successfully!\")\n",
    "print(\"Shape of dataset:\", df.shape)\n",
    "\n",
    "\n",
    "print(\"\\n📌 First 5 rows:\")\n",
    "display(df.head())\n",
    "\n",
    "print(\"\\n📌 Dataset Info:\")\n",
    "display(df.info())\n",
    "\n",
    "print(\"\\n📌 Missing values count:\")\n",
    "display(df.isnull().sum())\n",
    "\n",
    "print(\"\\n📌 Summary Statistics:\")\n",
    "display(df.describe())\n",
    "\n",
    "plt.figure(figsize=(10, 8))\n",
    "sns.heatmap(df.corr(), annot=True, fmt=\".2f\", cmap=\"coolwarm\")\n",
    "plt.title(\"Correlation Heatmap\")\n",
    "plt.show()\n",
    "\n",
    "df.hist(bins=30, figsize=(12, 8), edgecolor='black')\n",
    "plt.suptitle(\"Feature Distributions\", fontsize=16)\n",
    "plt.show()\n",
    "\n",
    "plt.figure(figsize=(6, 4))\n",
    "sns.scatterplot(x=\"MedInc\", y=\"MedHouseVal\", data=df, alpha=0.5)\n",
    "plt.title(\"Median Income vs. Median House Value\")\n",
    "plt.show()\n",
    "\n",
    "df.to_csv(\"../data/california_housing.csv\", index=False)\n",
    "print(\"💾 Dataset saved to data/california_housing.csv\")\n"
   ]
  }
 ],
 "metadata": {
  "language_info": {
   "name": "python"
  }
 },
 "nbformat": 4,
 "nbformat_minor": 5
}
